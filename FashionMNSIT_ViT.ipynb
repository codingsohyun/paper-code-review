{
  "nbformat": 4,
  "nbformat_minor": 0,
  "metadata": {
    "colab": {
      "provenance": [],
      "authorship_tag": "ABX9TyMjj7BqukW3vyMoPduWxRpT",
      "include_colab_link": true
    },
    "kernelspec": {
      "name": "python3",
      "display_name": "Python 3"
    },
    "language_info": {
      "name": "python"
    }
  },
  "cells": [
    {
      "cell_type": "markdown",
      "metadata": {
        "id": "view-in-github",
        "colab_type": "text"
      },
      "source": [
        "<a href=\"https://colab.research.google.com/github/codingsohyun/paper-code-review/blob/main/FashionMNSIT_ViT.ipynb\" target=\"_parent\"><img src=\"https://colab.research.google.com/assets/colab-badge.svg\" alt=\"Open In Colab\"/></a>"
      ]
    },
    {
      "cell_type": "code",
      "execution_count": 2,
      "metadata": {
        "colab": {
          "base_uri": "https://localhost:8080/"
        },
        "id": "L_gf6RPxSuX4",
        "outputId": "99eeac25-702d-4ba0-95e2-3dad677a0d18"
      },
      "outputs": [
        {
          "output_type": "stream",
          "name": "stdout",
          "text": [
            "['T-shirt/top', 'Trouser', 'Pullover', 'Dress', 'Coat', 'Sandal', 'Shirt', 'Sneaker', 'Bag', 'Ankle boot']\n",
            "{'T-shirt/top': 0, 'Trouser': 1, 'Pullover': 2, 'Dress': 3, 'Coat': 4, 'Sandal': 5, 'Shirt': 6, 'Sneaker': 7, 'Bag': 8, 'Ankle boot': 9}\n"
          ]
        },
        {
          "output_type": "stream",
          "name": "stderr",
          "text": [
            "/usr/local/lib/python3.10/dist-packages/torchvision/datasets/mnist.py:65: UserWarning: train_labels has been renamed targets\n",
            "  warnings.warn(\"train_labels has been renamed targets\")\n"
          ]
        },
        {
          "output_type": "stream",
          "name": "stdout",
          "text": [
            "Training Data Size : 10000\n",
            "Testing Data Size : 1000\n",
            "(<PIL.Image.Image image mode=L size=28x28 at 0x7D1F696C6710>, 9)\n"
          ]
        }
      ],
      "source": [
        "#FashionMNIST 데이터를 불러오고 균등 샘플링\n",
        "\n",
        "from itertools import chain\n",
        "from collections import defaultdict\n",
        "from torch.utils.data import Subset\n",
        "from torchvision import datasets\n",
        "\n",
        "def subset_sampler(dataset, classes, max_len):\n",
        "  target_idx = defaultdict(list)\n",
        "  for idx, label in enumerate(dataset.train_labels):\n",
        "    target_idx[int(label)].append(idx)\n",
        "\n",
        "  indices = list(\n",
        "      chain.from_iterable(\n",
        "          [target_idx[idx][:max_len] for idx in range(len(classes))]\n",
        "      )\n",
        "  )\n",
        "  return Subset(dataset, indices)\n",
        "\n",
        "train_dataset = datasets.FashionMNIST(root=\"../datasets\", download=True, train=True)\n",
        "test_dataset = datasets.FashionMNIST(root=\"../datasets\", download=True, train=False)\n",
        "\n",
        "classes = train_dataset.classes\n",
        "class_to_idx = train_dataset.class_to_idx\n",
        "\n",
        "print(classes)\n",
        "print(class_to_idx)\n",
        "\n",
        "subset_train_dataset = subset_sampler(\n",
        "    dataset=train_dataset, classes=train_dataset.classes, max_len=1000\n",
        ")\n",
        "\n",
        "subset_test_dataset = subset_sampler(\n",
        "    dataset=test_dataset, classes=test_dataset.classes, max_len=100\n",
        ")\n",
        "\n",
        "print(f\"Training Data Size : {len(subset_train_dataset)}\")\n",
        "print(f\"Testing Data Size : {len(subset_test_dataset)}\")\n",
        "print(train_dataset[0])"
      ]
    },
    {
      "cell_type": "code",
      "source": [],
      "metadata": {
        "id": "PVF_jwUWUVoI"
      },
      "execution_count": null,
      "outputs": []
    }
  ]
}